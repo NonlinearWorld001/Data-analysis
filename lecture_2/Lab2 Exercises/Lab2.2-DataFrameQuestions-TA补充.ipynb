{
 "cells": [
  {
   "cell_type": "markdown",
   "id": "45296cc6-a6ab-4cd7-b3fd-5f41f9ca0433",
   "metadata": {},
   "source": [
    "#Lab 2.2: Understand DataFrames\n",
    "The objective of this lab is to understand how to create dataframes and work with the data in the dataframe"
   ]
  },
  {
   "cell_type": "code",
   "execution_count": 61,
   "id": "0f2fb304-d74b-4252-b6c0-ce03af8acb0b",
   "metadata": {},
   "outputs": [],
   "source": [
    "import numpy as np\n",
    "import pandas as pd"
   ]
  },
  {
   "cell_type": "markdown",
   "id": "b1e3e7a6-c5aa-4c07-9dfe-849b01d85557",
   "metadata": {},
   "source": [
    "Q1. Describe what the code cell below does:\n",
    "\n",
    "\n",
    "\n"
   ]
  },
  {
   "cell_type": "code",
   "execution_count": 1,
   "id": "1da964e1-12b9-4820-a664-28bc0942b15e",
   "metadata": {},
   "outputs": [
    {
     "ename": "NameError",
     "evalue": "name 'np' is not defined",
     "output_type": "error",
     "traceback": [
      "\u001b[31m---------------------------------------------------------------------------\u001b[39m",
      "\u001b[31mNameError\u001b[39m                                 Traceback (most recent call last)",
      "\u001b[36mCell\u001b[39m\u001b[36m \u001b[39m\u001b[32mIn[1]\u001b[39m\u001b[32m, line 1\u001b[39m\n\u001b[32m----> \u001b[39m\u001b[32m1\u001b[39m models = \u001b[43mnp\u001b[49m.array([\u001b[33m\"\u001b[39m\u001b[33mHonda Civic\u001b[39m\u001b[33m\"\u001b[39m, \u001b[33m\"\u001b[39m\u001b[33mToyota Corolla\u001b[39m\u001b[33m\"\u001b[39m, \u001b[33m\"\u001b[39m\u001b[33mFord Focus\u001b[39m\u001b[33m\"\u001b[39m, \u001b[33m\"\u001b[39m\u001b[33mAudi A4\u001b[39m\u001b[33m\"\u001b[39m,\u001b[33m\"\u001b[39m\u001b[33mMercedes Benz\u001b[39m\u001b[33m\"\u001b[39m,\u001b[33m\"\u001b[39m\u001b[33mBMW\u001b[39m\u001b[33m\"\u001b[39m]) \u001b[38;5;66;03m# pd.Series\u001b[39;00m\n\u001b[32m      2\u001b[39m colors = np.array([\u001b[33m\"\u001b[39m\u001b[33mblue\u001b[39m\u001b[33m\"\u001b[39m, \u001b[33m\"\u001b[39m\u001b[33mwhite\u001b[39m\u001b[33m\"\u001b[39m, \u001b[33m\"\u001b[39m\u001b[33mblue\u001b[39m\u001b[33m\"\u001b[39m, \u001b[33m\"\u001b[39m\u001b[33mblack\u001b[39m\u001b[33m\"\u001b[39m, \u001b[33m\"\u001b[39m\u001b[33mmetallic\u001b[39m\u001b[33m\"\u001b[39m, \u001b[33m\"\u001b[39m\u001b[33mmetallic\u001b[39m\u001b[33m\"\u001b[39m]) \n\u001b[32m      3\u001b[39m prices = np.random.randint(\u001b[32m10000\u001b[39m, \u001b[32m30000\u001b[39m, size=\u001b[38;5;28mlen\u001b[39m(models))\n",
      "\u001b[31mNameError\u001b[39m: name 'np' is not defined"
     ]
    }
   ],
   "source": [
    "models = np.array([\"Honda Civic\", \"Toyota Corolla\", \"Ford Focus\", \"Audi A4\",\"Mercedes Benz\",\"BMW\"]) # pd.Series\n",
    "colors = np.array([\"blue\", \"white\", \"blue\", \"black\", \"metallic\", \"metallic\"]) \n",
    "prices = np.random.randint(10000, 30000, size=len(models))\n",
    "\n",
    "\n",
    "cars_new=pd.DataFrame({'Model':models, 'Color': colors,'Price': prices} )\n",
    "cars_new"
   ]
  },
  {
   "cell_type": "markdown",
   "id": "6bff7e3f-812b-452e-9013-13f823db338e",
   "metadata": {},
   "source": [
    "Q2. Describe what the code cell below does:\n",
    "\n",
    "\n"
   ]
  },
  {
   "cell_type": "code",
   "execution_count": 65,
   "id": "94de5f79-40f6-41df-95f5-d000c114dcc5",
   "metadata": {},
   "outputs": [],
   "source": [
    "cars = cars_new.copy()"
   ]
  },
  {
   "cell_type": "code",
   "execution_count": 63,
   "id": "c96ef7f6",
   "metadata": {},
   "outputs": [
    {
     "name": "stdout",
     "output_type": "stream",
     "text": [
      "2390678186096 2391217862080\n"
     ]
    }
   ],
   "source": [
    "print(id(cars_new), id(cars))"
   ]
  },
  {
   "cell_type": "markdown",
   "id": "ab93b84e-a310-4af2-ab99-2d5f61e67cca",
   "metadata": {},
   "source": [
    "Q3. Describe what the code cell below does: \n",
    "\n",
    "\n"
   ]
  },
  {
   "cell_type": "code",
   "execution_count": 18,
   "id": "f9f5a366-492f-4e5e-bc19-7404bf23ced5",
   "metadata": {},
   "outputs": [],
   "source": [
    "cars.rename(index={0:'Car1', 1:'Car2', 2:'Car3', 3:'Car4', 4:'Car5', 5:'Car6'}, inplace = True)"
   ]
  },
  {
   "cell_type": "code",
   "execution_count": 66,
   "id": "9c11e10b",
   "metadata": {},
   "outputs": [
    {
     "name": "stdout",
     "output_type": "stream",
     "text": [
      "               Model     Color  Price\n",
      "Car1     Honda Civic      blue  10516\n",
      "Car2  Toyota Corolla     white  14009\n",
      "Car3      Ford Focus      blue  21037\n",
      "Car4         Audi A4     black  15638\n",
      "Car5   Mercedes Benz  metallic  26251\n",
      "Car6             BMW  metallic  14411\n",
      "\n",
      "            Model     Color  Price\n",
      "0     Honda Civic      blue  10516\n",
      "1  Toyota Corolla     white  14009\n",
      "2      Ford Focus      blue  21037\n",
      "3         Audi A4     black  15638\n",
      "4   Mercedes Benz  metallic  26251\n",
      "5             BMW  metallic  14411\n"
     ]
    }
   ],
   "source": [
    "cars_index = cars.rename(index={0:'Car1', 1:'Car2', 2:'Car3', 3:'Car4', 4:'Car5', 5:'Car6'})\n",
    "print(cars_index)\n",
    "print()\n",
    "print(cars)"
   ]
  },
  {
   "cell_type": "code",
   "execution_count": 19,
   "id": "4de8bb00",
   "metadata": {},
   "outputs": [
    {
     "data": {
      "text/html": [
       "<div>\n",
       "<style scoped>\n",
       "    .dataframe tbody tr th:only-of-type {\n",
       "        vertical-align: middle;\n",
       "    }\n",
       "\n",
       "    .dataframe tbody tr th {\n",
       "        vertical-align: top;\n",
       "    }\n",
       "\n",
       "    .dataframe thead th {\n",
       "        text-align: right;\n",
       "    }\n",
       "</style>\n",
       "<table border=\"1\" class=\"dataframe\">\n",
       "  <thead>\n",
       "    <tr style=\"text-align: right;\">\n",
       "      <th></th>\n",
       "      <th>Model</th>\n",
       "      <th>Color</th>\n",
       "      <th>Price</th>\n",
       "    </tr>\n",
       "  </thead>\n",
       "  <tbody>\n",
       "    <tr>\n",
       "      <th>Car1</th>\n",
       "      <td>Honda Civic</td>\n",
       "      <td>blue</td>\n",
       "      <td>18854</td>\n",
       "    </tr>\n",
       "    <tr>\n",
       "      <th>Car2</th>\n",
       "      <td>Toyota Corolla</td>\n",
       "      <td>white</td>\n",
       "      <td>17016</td>\n",
       "    </tr>\n",
       "    <tr>\n",
       "      <th>Car3</th>\n",
       "      <td>Ford Focus</td>\n",
       "      <td>blue</td>\n",
       "      <td>10993</td>\n",
       "    </tr>\n",
       "    <tr>\n",
       "      <th>Car4</th>\n",
       "      <td>Audi A4</td>\n",
       "      <td>black</td>\n",
       "      <td>22195</td>\n",
       "    </tr>\n",
       "    <tr>\n",
       "      <th>Car5</th>\n",
       "      <td>Mercedes Benz</td>\n",
       "      <td>metallic</td>\n",
       "      <td>11561</td>\n",
       "    </tr>\n",
       "    <tr>\n",
       "      <th>Car6</th>\n",
       "      <td>BMW</td>\n",
       "      <td>metallic</td>\n",
       "      <td>10976</td>\n",
       "    </tr>\n",
       "  </tbody>\n",
       "</table>\n",
       "</div>"
      ],
      "text/plain": [
       "               Model     Color  Price\n",
       "Car1     Honda Civic      blue  18854\n",
       "Car2  Toyota Corolla     white  17016\n",
       "Car3      Ford Focus      blue  10993\n",
       "Car4         Audi A4     black  22195\n",
       "Car5   Mercedes Benz  metallic  11561\n",
       "Car6             BMW  metallic  10976"
      ]
     },
     "execution_count": 19,
     "metadata": {},
     "output_type": "execute_result"
    }
   ],
   "source": [
    "cars"
   ]
  },
  {
   "cell_type": "markdown",
   "id": "50d7a3b8-a677-408a-93dc-60ae5c36154a",
   "metadata": {},
   "source": [
    "Q4. Describe what the code cell below does: \n",
    "\n",
    "\n"
   ]
  },
  {
   "cell_type": "code",
   "execution_count": 67,
   "id": "7b54e826-f9e1-4fd1-9fcd-3cec39ab00e1",
   "metadata": {},
   "outputs": [
    {
     "name": "stdout",
     "output_type": "stream",
     "text": [
      "            Model     Color\n",
      "0     Honda Civic      blue\n",
      "1  Toyota Corolla     white\n",
      "2      Ford Focus      blue\n",
      "3         Audi A4     black\n",
      "4   Mercedes Benz  metallic\n",
      "5             BMW  metallic\n"
     ]
    },
    {
     "data": {
      "text/html": [
       "<div>\n",
       "<style scoped>\n",
       "    .dataframe tbody tr th:only-of-type {\n",
       "        vertical-align: middle;\n",
       "    }\n",
       "\n",
       "    .dataframe tbody tr th {\n",
       "        vertical-align: top;\n",
       "    }\n",
       "\n",
       "    .dataframe thead th {\n",
       "        text-align: right;\n",
       "    }\n",
       "</style>\n",
       "<table border=\"1\" class=\"dataframe\">\n",
       "  <thead>\n",
       "    <tr style=\"text-align: right;\">\n",
       "      <th></th>\n",
       "      <th>Model</th>\n",
       "      <th>Color</th>\n",
       "      <th>Price</th>\n",
       "    </tr>\n",
       "  </thead>\n",
       "  <tbody>\n",
       "    <tr>\n",
       "      <th>1</th>\n",
       "      <td>Toyota Corolla</td>\n",
       "      <td>white</td>\n",
       "      <td>14009</td>\n",
       "    </tr>\n",
       "    <tr>\n",
       "      <th>2</th>\n",
       "      <td>Ford Focus</td>\n",
       "      <td>blue</td>\n",
       "      <td>21037</td>\n",
       "    </tr>\n",
       "    <tr>\n",
       "      <th>3</th>\n",
       "      <td>Audi A4</td>\n",
       "      <td>black</td>\n",
       "      <td>15638</td>\n",
       "    </tr>\n",
       "    <tr>\n",
       "      <th>4</th>\n",
       "      <td>Mercedes Benz</td>\n",
       "      <td>metallic</td>\n",
       "      <td>26251</td>\n",
       "    </tr>\n",
       "    <tr>\n",
       "      <th>5</th>\n",
       "      <td>BMW</td>\n",
       "      <td>metallic</td>\n",
       "      <td>14411</td>\n",
       "    </tr>\n",
       "  </tbody>\n",
       "</table>\n",
       "</div>"
      ],
      "text/plain": [
       "            Model     Color  Price\n",
       "1  Toyota Corolla     white  14009\n",
       "2      Ford Focus      blue  21037\n",
       "3         Audi A4     black  15638\n",
       "4   Mercedes Benz  metallic  26251\n",
       "5             BMW  metallic  14411"
      ]
     },
     "execution_count": 67,
     "metadata": {},
     "output_type": "execute_result"
    }
   ],
   "source": [
    "cars.columns.values.tolist()\n",
    "carview = cars[['Model','Color']]\n",
    "print(carview)\n",
    "\n",
    "cars.head(6)\n",
    "cars.tail() #defaul 5 last rows are displayed"
   ]
  },
  {
   "cell_type": "markdown",
   "id": "871263ac-bc44-40f9-a51d-a41b10fd26d3",
   "metadata": {},
   "source": [
    "Q5. Describe what the code cell below does: \n",
    "\n",
    "\n"
   ]
  },
  {
   "cell_type": "code",
   "execution_count": 68,
   "id": "d7ce9007-fe21-4f48-bb42-b1b31c5a5203",
   "metadata": {},
   "outputs": [
    {
     "name": "stdout",
     "output_type": "stream",
     "text": [
      "0    False\n",
      "1    False\n",
      "2    False\n",
      "3    False\n",
      "4     True\n",
      "5     True\n",
      "Name: Color, dtype: bool\n"
     ]
    },
    {
     "data": {
      "text/html": [
       "<div>\n",
       "<style scoped>\n",
       "    .dataframe tbody tr th:only-of-type {\n",
       "        vertical-align: middle;\n",
       "    }\n",
       "\n",
       "    .dataframe tbody tr th {\n",
       "        vertical-align: top;\n",
       "    }\n",
       "\n",
       "    .dataframe thead th {\n",
       "        text-align: right;\n",
       "    }\n",
       "</style>\n",
       "<table border=\"1\" class=\"dataframe\">\n",
       "  <thead>\n",
       "    <tr style=\"text-align: right;\">\n",
       "      <th></th>\n",
       "      <th>Model</th>\n",
       "      <th>Color</th>\n",
       "      <th>Price</th>\n",
       "    </tr>\n",
       "  </thead>\n",
       "  <tbody>\n",
       "    <tr>\n",
       "      <th>4</th>\n",
       "      <td>Mercedes Benz</td>\n",
       "      <td>metallic</td>\n",
       "      <td>26251</td>\n",
       "    </tr>\n",
       "    <tr>\n",
       "      <th>5</th>\n",
       "      <td>BMW</td>\n",
       "      <td>metallic</td>\n",
       "      <td>14411</td>\n",
       "    </tr>\n",
       "  </tbody>\n",
       "</table>\n",
       "</div>"
      ],
      "text/plain": [
       "           Model     Color  Price\n",
       "4  Mercedes Benz  metallic  26251\n",
       "5            BMW  metallic  14411"
      ]
     },
     "execution_count": 68,
     "metadata": {},
     "output_type": "execute_result"
    }
   ],
   "source": [
    "cars.iloc[1] #will print the second car in the dataframe\n",
    "\n",
    "\n",
    "print(cars['Color']=='metallic')\n",
    "cars[cars['Color']=='metallic']"
   ]
  },
  {
   "cell_type": "markdown",
   "id": "34e3f79d-4417-447d-8db4-09b2feb67b2a",
   "metadata": {},
   "source": [
    "Q6. Describe what the code cell below does: \n",
    "\n",
    "\n"
   ]
  },
  {
   "cell_type": "code",
   "execution_count": 70,
   "id": "5a4e22c6",
   "metadata": {},
   "outputs": [
    {
     "data": {
      "text/plain": [
       "0    False\n",
       "1    False\n",
       "2     True\n",
       "3    False\n",
       "4     True\n",
       "5    False\n",
       "Name: Price, dtype: bool"
      ]
     },
     "execution_count": 70,
     "metadata": {},
     "output_type": "execute_result"
    }
   ],
   "source": [
    "(cars['Price'] >= 20000) & (cars['Price'] <= 30000)"
   ]
  },
  {
   "cell_type": "code",
   "execution_count": null,
   "id": "f71c68cc-4f74-473d-9e0f-5dc909a43189",
   "metadata": {},
   "outputs": [
    {
     "data": {
      "text/html": [
       "<div>\n",
       "<style scoped>\n",
       "    .dataframe tbody tr th:only-of-type {\n",
       "        vertical-align: middle;\n",
       "    }\n",
       "\n",
       "    .dataframe tbody tr th {\n",
       "        vertical-align: top;\n",
       "    }\n",
       "\n",
       "    .dataframe thead th {\n",
       "        text-align: right;\n",
       "    }\n",
       "</style>\n",
       "<table border=\"1\" class=\"dataframe\">\n",
       "  <thead>\n",
       "    <tr style=\"text-align: right;\">\n",
       "      <th></th>\n",
       "      <th>Model</th>\n",
       "      <th>Color</th>\n",
       "      <th>Price</th>\n",
       "    </tr>\n",
       "  </thead>\n",
       "  <tbody>\n",
       "    <tr>\n",
       "      <th>Car4</th>\n",
       "      <td>Audi A4</td>\n",
       "      <td>black</td>\n",
       "      <td>22195</td>\n",
       "    </tr>\n",
       "  </tbody>\n",
       "</table>\n",
       "</div>"
      ],
      "text/plain": [
       "        Model  Color  Price\n",
       "Car4  Audi A4  black  22195"
      ]
     },
     "execution_count": 22,
     "metadata": {},
     "output_type": "execute_result"
    }
   ],
   "source": [
    "def find_cars_by_price_range(df, min_price, max_price):\n",
    "    return df[(df['Price'] >= min_price) & (df['Price'] <= max_price)]  # & == and\n",
    "\n",
    "price_range_cars = find_cars_by_price_range(cars, 20000, 30000)\n",
    "price_range_cars"
   ]
  },
  {
   "cell_type": "markdown",
   "id": "a5da3f95-b2d9-4fa1-9b65-5f3cb8715e91",
   "metadata": {},
   "source": [
    "Q7. Describe what the code cell below does\n",
    "\n"
   ]
  },
  {
   "cell_type": "code",
   "execution_count": 78,
   "id": "c0193412-ac3f-4964-9681-3ac8202e0df2",
   "metadata": {},
   "outputs": [
    {
     "data": {
      "text/html": [
       "<div>\n",
       "<style scoped>\n",
       "    .dataframe tbody tr th:only-of-type {\n",
       "        vertical-align: middle;\n",
       "    }\n",
       "\n",
       "    .dataframe tbody tr th {\n",
       "        vertical-align: top;\n",
       "    }\n",
       "\n",
       "    .dataframe thead th {\n",
       "        text-align: right;\n",
       "    }\n",
       "</style>\n",
       "<table border=\"1\" class=\"dataframe\">\n",
       "  <thead>\n",
       "    <tr style=\"text-align: right;\">\n",
       "      <th></th>\n",
       "      <th>Model</th>\n",
       "      <th>Color</th>\n",
       "      <th>Price</th>\n",
       "    </tr>\n",
       "  </thead>\n",
       "  <tbody>\n",
       "    <tr>\n",
       "      <th>0</th>\n",
       "      <td>Honda Civic</td>\n",
       "      <td>blue</td>\n",
       "      <td>10516</td>\n",
       "    </tr>\n",
       "    <tr>\n",
       "      <th>1</th>\n",
       "      <td>Toyota Corolla</td>\n",
       "      <td>white</td>\n",
       "      <td>14009</td>\n",
       "    </tr>\n",
       "    <tr>\n",
       "      <th>2</th>\n",
       "      <td>Ford Focus</td>\n",
       "      <td>blue</td>\n",
       "      <td>21037</td>\n",
       "    </tr>\n",
       "    <tr>\n",
       "      <th>3</th>\n",
       "      <td>Audi A4</td>\n",
       "      <td>black</td>\n",
       "      <td>15638</td>\n",
       "    </tr>\n",
       "    <tr>\n",
       "      <th>4</th>\n",
       "      <td>Mercedes Benz</td>\n",
       "      <td>metallic</td>\n",
       "      <td>26251</td>\n",
       "    </tr>\n",
       "    <tr>\n",
       "      <th>5</th>\n",
       "      <td>BMW</td>\n",
       "      <td>metallic</td>\n",
       "      <td>14411</td>\n",
       "    </tr>\n",
       "    <tr>\n",
       "      <th>Car7</th>\n",
       "      <td>Ford Focus</td>\n",
       "      <td>blue</td>\n",
       "      <td>23890</td>\n",
       "    </tr>\n",
       "  </tbody>\n",
       "</table>\n",
       "</div>"
      ],
      "text/plain": [
       "               Model     Color  Price\n",
       "0        Honda Civic      blue  10516\n",
       "1     Toyota Corolla     white  14009\n",
       "2         Ford Focus      blue  21037\n",
       "3            Audi A4     black  15638\n",
       "4      Mercedes Benz  metallic  26251\n",
       "5                BMW  metallic  14411\n",
       "Car7      Ford Focus      blue  23890"
      ]
     },
     "execution_count": 78,
     "metadata": {},
     "output_type": "execute_result"
    }
   ],
   "source": [
    "cars.to_csv(\"CarsDatabase.csv\") # to save without the index column set index=False\n",
    "new_cars=pd.read_csv(\"CarsDatabase.csv\",index_col=0)\n",
    "# new_cars=pd.read_csv(\"CarsDatabase.csv\")\n",
    "new_cars"
   ]
  },
  {
   "cell_type": "markdown",
   "id": "ffa21146-70d4-4eae-ace7-cdbac3bf77ea",
   "metadata": {},
   "source": [
    "Q8. Describe what the code cell below does: \n",
    "\n",
    "\n"
   ]
  },
  {
   "cell_type": "code",
   "execution_count": null,
   "id": "3a9b8d70-692b-4583-a9ee-2519e0669db2",
   "metadata": {},
   "outputs": [
    {
     "data": {
      "text/plain": [
       "np.float64(14923.5)"
      ]
     },
     "execution_count": 24,
     "metadata": {},
     "output_type": "execute_result"
    }
   ],
   "source": [
    "def findAveragePrice(color):\n",
    "    return cars[cars['Color'].str.lower() == color]['Price'].mean()\n",
    "findAveragePrice('blue')"
   ]
  },
  {
   "cell_type": "markdown",
   "id": "8cd57626-72ae-4716-ae87-df0c7b31edbe",
   "metadata": {},
   "source": [
    "Q9. Describe what the code cell below does: \n",
    "\n",
    "\n"
   ]
  },
  {
   "cell_type": "code",
   "execution_count": 71,
   "id": "57b5d62c-668b-4026-88c8-70d81dfe02a5",
   "metadata": {},
   "outputs": [
    {
     "name": "stdout",
     "output_type": "stream",
     "text": [
      "               Model     Color  Price\n",
      "0        Honda Civic      blue  10516\n",
      "1     Toyota Corolla     white  14009\n",
      "2         Ford Focus      blue  21037\n",
      "3            Audi A4     black  15638\n",
      "4      Mercedes Benz  metallic  26251\n",
      "5                BMW  metallic  14411\n",
      "Car7      Ford Focus      blue  23890\n"
     ]
    },
    {
     "data": {
      "text/plain": [
       "np.float64(18481.0)"
      ]
     },
     "execution_count": 71,
     "metadata": {},
     "output_type": "execute_result"
    }
   ],
   "source": [
    "new_row = {'Model':'Ford Focus', 'Color':'blue', 'Price':23890}\n",
    "\n",
    "new_car = pd.DataFrame({'Model':'Ford Focus','Color': 'blue','Price': 23890}, \n",
    "                       index=[\"Car7\"])  # Specify the correct index value here\n",
    "\n",
    "cars = pd.concat([cars, new_car])\n",
    "print(cars)\n",
    "\n",
    "findAveragePrice('blue')"
   ]
  },
  {
   "cell_type": "markdown",
   "id": "b3b1d37f-aa25-484a-b9e4-fd279e0b6e6d",
   "metadata": {},
   "source": [
    "Q10. Describe what the code cell below does: \n",
    "\n",
    "\n"
   ]
  },
  {
   "cell_type": "code",
   "execution_count": 26,
   "id": "fd87a5d0-56fa-4e97-a9b8-875c4e73dc23",
   "metadata": {},
   "outputs": [
    {
     "data": {
      "text/html": [
       "<div>\n",
       "<style scoped>\n",
       "    .dataframe tbody tr th:only-of-type {\n",
       "        vertical-align: middle;\n",
       "    }\n",
       "\n",
       "    .dataframe tbody tr th {\n",
       "        vertical-align: top;\n",
       "    }\n",
       "\n",
       "    .dataframe thead th {\n",
       "        text-align: right;\n",
       "    }\n",
       "</style>\n",
       "<table border=\"1\" class=\"dataframe\">\n",
       "  <thead>\n",
       "    <tr style=\"text-align: right;\">\n",
       "      <th></th>\n",
       "      <th>Model</th>\n",
       "      <th>Color</th>\n",
       "      <th>Price</th>\n",
       "    </tr>\n",
       "  </thead>\n",
       "  <tbody>\n",
       "    <tr>\n",
       "      <th>Car6</th>\n",
       "      <td>BMW</td>\n",
       "      <td>metallic</td>\n",
       "      <td>10976</td>\n",
       "    </tr>\n",
       "    <tr>\n",
       "      <th>Car3</th>\n",
       "      <td>Ford Focus</td>\n",
       "      <td>blue</td>\n",
       "      <td>10993</td>\n",
       "    </tr>\n",
       "    <tr>\n",
       "      <th>Car5</th>\n",
       "      <td>Mercedes Benz</td>\n",
       "      <td>metallic</td>\n",
       "      <td>11561</td>\n",
       "    </tr>\n",
       "    <tr>\n",
       "      <th>Car2</th>\n",
       "      <td>Toyota Corolla</td>\n",
       "      <td>white</td>\n",
       "      <td>17016</td>\n",
       "    </tr>\n",
       "    <tr>\n",
       "      <th>Car1</th>\n",
       "      <td>Honda Civic</td>\n",
       "      <td>blue</td>\n",
       "      <td>18854</td>\n",
       "    </tr>\n",
       "    <tr>\n",
       "      <th>Car4</th>\n",
       "      <td>Audi A4</td>\n",
       "      <td>black</td>\n",
       "      <td>22195</td>\n",
       "    </tr>\n",
       "    <tr>\n",
       "      <th>Car7</th>\n",
       "      <td>Ford Focus</td>\n",
       "      <td>blue</td>\n",
       "      <td>23890</td>\n",
       "    </tr>\n",
       "  </tbody>\n",
       "</table>\n",
       "</div>"
      ],
      "text/plain": [
       "               Model     Color  Price\n",
       "Car6             BMW  metallic  10976\n",
       "Car3      Ford Focus      blue  10993\n",
       "Car5   Mercedes Benz  metallic  11561\n",
       "Car2  Toyota Corolla     white  17016\n",
       "Car1     Honda Civic      blue  18854\n",
       "Car4         Audi A4     black  22195\n",
       "Car7      Ford Focus      blue  23890"
      ]
     },
     "execution_count": 26,
     "metadata": {},
     "output_type": "execute_result"
    }
   ],
   "source": [
    "sorted_cars = cars.sort_values(by='Price')\n",
    "sorted_cars"
   ]
  },
  {
   "cell_type": "code",
   "execution_count": null,
   "id": "3552f6a9",
   "metadata": {},
   "outputs": [],
   "source": []
  },
  {
   "cell_type": "markdown",
   "id": "40049091",
   "metadata": {},
   "source": [
    "# regular expression"
   ]
  },
  {
   "cell_type": "code",
   "execution_count": 56,
   "id": "db0511ae",
   "metadata": {},
   "outputs": [
    {
     "name": "stdout",
     "output_type": "stream",
     "text": [
      "找到匹配项: Python\n",
      "0\n",
      "6\n",
      "(0, 6)\n"
     ]
    }
   ],
   "source": [
    "import re\n",
    "\n",
    "text = \"Python is awesome! Python@\"\n",
    "# 在字符串中搜索第一个匹配项，返回 Match 对象（如果匹配成功），否则返回 None\n",
    "match = re.search(r\"Python\", text)\n",
    "\n",
    "if match:\n",
    "    print(\"找到匹配项:\", match.group())  # 输出: Python\n",
    "    print(match.start())    # 匹配的起始索引\n",
    "    print(match.end())      # 匹配的结束索引\n",
    "    print(match.span())     # 匹配的起止范围\n",
    "else:\n",
    "    print(\"未找到匹配项\")"
   ]
  },
  {
   "cell_type": "code",
   "execution_count": 49,
   "id": "8d293f44",
   "metadata": {},
   "outputs": [
    {
     "name": "stdout",
     "output_type": "stream",
     "text": [
      "['Python', 'Python']\n"
     ]
    }
   ],
   "source": [
    "text = \"Python is great, and Python is popular!\"\n",
    "# 返回所有匹配的结果（以列表形式\n",
    "matches = re.findall(r\"Python\", text)\n",
    "print(matches)  # 输出: ['Python', 'Python']"
   ]
  },
  {
   "cell_type": "code",
   "execution_count": null,
   "id": "ba51d9bf",
   "metadata": {},
   "outputs": [
    {
     "name": "stdout",
     "output_type": "stream",
     "text": [
      "匹配成功: Python\n"
     ]
    }
   ],
   "source": [
    "text = \"Python is powerful!\"\n",
    "# 只在字符串开头匹配，若匹配失败则返回 None\n",
    "match = re.match(r\"Python\", text)\n",
    "\n",
    "if match:\n",
    "    print(\"匹配成功:\", match.group())  # 输出: Python\n",
    "else:\n",
    "    print(\"匹配失败\")\n",
    "# re.match() 只匹配开头，通常用 re.search() 代替"
   ]
  },
  {
   "cell_type": "code",
   "execution_count": 44,
   "id": "6eb63430",
   "metadata": {},
   "outputs": [
    {
     "name": "stdout",
     "output_type": "stream",
     "text": [
      "I love Java, Java is amazing!\n"
     ]
    }
   ],
   "source": [
    "text = \"I love Python, Python is amazing!\"\n",
    "#  用新字符串替换匹配的内容\n",
    "new_text = re.sub(r\"Python\", \"Java\", text)\n",
    "print(new_text)  # 输出: I love Java, Java is amazing!"
   ]
  },
  {
   "cell_type": "code",
   "execution_count": null,
   "id": "8569772c",
   "metadata": {},
   "outputs": [
    {
     "name": "stdout",
     "output_type": "stream",
     "text": [
      "['apple', 'banana', 'grape', 'orange']\n"
     ]
    }
   ],
   "source": [
    "text = \"apple,banana;grape orange\"\n",
    "# 根据匹配的模式拆分字符串，返回列表\n",
    "result = re.split(r\"[ ,;]\", text)  # 逗号、分号或空格拆分\n",
    "print(result)  # 输出: ['apple', 'banana', 'grape', 'orange']"
   ]
  },
  {
   "cell_type": "markdown",
   "id": "c3db8d6f",
   "metadata": {},
   "source": [
    "| **符号** | **描述** | **示例** |\n",
    "|----------|---------|---------|\n",
    "| `.`      | 任意单个字符（除换行符） | `a.b` 匹配 `acb`、`a7b` 但不匹配 `ab` |\n",
    "| `^`      | 匹配字符串的开始 | `^hello` 匹配 `\"hello world\"` 但不匹配 `\"hi hello\"` |\n",
    "| `$`      | 匹配字符串的结束 | `world$` 匹配 `\"hello world\"` 但不匹配 `\"world hello\"` |\n",
    "| `*`      | 匹配前一个字符 **0 次或多次** | `ba*` 匹配 `b`、`ba`、`baa` |\n",
    "| `+`      | 匹配前一个字符 **1 次或多次** | `ba+` 匹配 `ba`、`baa`，但不匹配 `b` |\n",
    "| `?`      | 匹配前一个字符 **0 次或 1 次** | `ba?` 匹配 `b` 或 `ba`，但不匹配 `baa` |\n",
    "| `{n}`    | 恰好匹配前一个字符 `n` 次 | `a{3}` 匹配 `aaa` 但不匹配 `aa` |\n",
    "| `{n,}`   | 至少匹配 `n` 次 | `a{2,}` 匹配 `aa`、`aaa`、`aaaa` |\n",
    "| `{n,m}`  | 匹配 `n` 到 `m` 次 | `a{2,4}` 匹配 `aa`、`aaa`、`aaaa` 但不匹配 `a` |\n",
    "| `[]`     | 匹配括号内的任意字符 | `[abc]` 匹配 `a`、`b` 或 `c` |\n",
    "| `[^]`    | 匹配 **不在** 方括号内的字符 | `[^abc]` 匹配 除 `a`、`b`、`c` 之外的字符 |\n",
    "| `\\d`     | 匹配 **数字**（等价于 `[0-9]`） | `\\d+` 匹配 `123`、`42` |\n",
    "| `\\D`     | 匹配 **非数字**（等价于 `[^0-9]`） | `\\D+` 匹配 `abc`、`hello` |\n",
    "| `\\w`     | 匹配 **字母、数字或下划线**（等价于 `[a-zA-Z0-9_]`） | `\\w+` 匹配 `hello_123` |\n",
    "| `\\W`     | 匹配 **非字母、数字、下划线** | `\\W+` 匹配 `@#$%` |\n",
    "| `\\s`     | 匹配 **空白字符**（空格、制表符、换行符等） | `\\s+` 匹配 `\"   \"` |\n",
    "| `\\S`     | 匹配 **非空白字符** | `\\S+` 匹配 `\"hello\"` |\n",
    "| `\\b`     | **单词边界**，匹配单词的开始或结束 | `\\bword\\b` 只匹配 `word` 但不匹配 `wording` |\n",
    "| `\\`      | 转义字符，用于匹配元字符 | `\\.` 匹配 `.` 而不是任何字符 |"
   ]
  },
  {
   "cell_type": "markdown",
   "id": "015f6673",
   "metadata": {},
   "source": [
    "## 示例"
   ]
  },
  {
   "cell_type": "code",
   "execution_count": null,
   "id": "ff8f64ec",
   "metadata": {},
   "outputs": [
    {
     "name": "stdout",
     "output_type": "stream",
     "text": [
      "无效的邮箱地址\n"
     ]
    }
   ],
   "source": [
    "#  检测邮箱格式\n",
    "email = \"us@er@example.com\"\n",
    "pattern = r\"^[a-zA-Z0-9_.+-]+@[a-zA-Z0-9-]+\\.[a-zA-Z0-9-.]+$\"\n",
    "\n",
    "if re.match(pattern, email):\n",
    "    print(\"合法的邮箱地址\")\n",
    "else:\n",
    "    print(\"无效的邮箱地址\")"
   ]
  },
  {
   "cell_type": "code",
   "execution_count": 60,
   "id": "5dd9df65",
   "metadata": {},
   "outputs": [
    {
     "name": "stdout",
     "output_type": "stream",
     "text": [
      "提取的内容: <h1>Python 正则表达式</h1>\n"
     ]
    }
   ],
   "source": [
    "html = \"<h1>Python 正则表达式</h1>\"\n",
    "# match = re.search(r\"<h1>(.*?)</h1>\", html)\n",
    "match = re.search(r\"<h1>(.+)</h1>\", html)\n",
    "if match:\n",
    "    print(\"提取的内容:\", match.group())  # 输出: Python 正则表达式"
   ]
  },
  {
   "cell_type": "code",
   "execution_count": null,
   "id": "e3b7d4e3",
   "metadata": {},
   "outputs": [],
   "source": []
  }
 ],
 "metadata": {
  "kernelspec": {
   "display_name": "FOR_AI",
   "language": "python",
   "name": "python3"
  },
  "language_info": {
   "codemirror_mode": {
    "name": "ipython",
    "version": 3
   },
   "file_extension": ".py",
   "mimetype": "text/x-python",
   "name": "python",
   "nbconvert_exporter": "python",
   "pygments_lexer": "ipython3",
   "version": "3.11.11"
  },
  "widgets": {
   "application/vnd.jupyter.widget-state+json": {
    "state": {},
    "version_major": 2,
    "version_minor": 0
   }
  }
 },
 "nbformat": 4,
 "nbformat_minor": 5
}
