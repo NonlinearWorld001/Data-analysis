{
 "cells": [
  {
   "cell_type": "markdown",
   "id": "4ad531a4-29b9-46f6-af68-2705f93b07bb",
   "metadata": {},
   "source": [
    "# Lab 2.4: Data Preparation - Part 1"
   ]
  },
  {
   "attachments": {},
   "cell_type": "markdown",
   "id": "017d2b32-4f26-4f2c-8009-ab1dd560de4d",
   "metadata": {},
   "source": [
    "Q1. JSON\n",
    "markdown\n",
    "![An example of a JSON data object](JSONExample.png)\n",
    "\n"
   ]
  },
  {
   "cell_type": "code",
   "execution_count": null,
   "id": "7cb56677-4003-436a-b04e-2d9895275072",
   "metadata": {},
   "outputs": [],
   "source": [
    "weather=[{'Version': 1, 'Key': '1310', 'Type': 'City', 'Rank': 35, 'LocalizedName': 'Pittsburgh', 'EnglishName': 'Pittsburgh', 'PrimaryPostalCode': '15219', 'Region': {'ID': 'NAM', 'LocalizedName': 'North America', 'EnglishName': 'North America'}, 'Country': {'ID': 'US', 'LocalizedName': 'United States', 'EnglishName': 'United States'}, 'AdministrativeArea': {'ID': 'PA', 'LocalizedName': 'Pennsylvania', 'EnglishName': 'Pennsylvania', 'Level': 1, 'LocalizedType': 'State', 'EnglishType': 'State', 'CountryID': 'US'}, 'TimeZone': {'Code': 'EDT', 'Name': 'America/New_York', 'GmtOffset': -4.0, 'IsDaylightSaving': True, 'NextOffsetChange': '2024-11-03T06:00:00Z'}, 'GeoPosition': {'Latitude': 40.441, 'Longitude': -79.996, 'Elevation': {'Metric': {'Value': 219.0, 'Unit': 'm', 'UnitType': 5}, 'Imperial': {'Value': 718.0, 'Unit': 'ft', 'UnitType': 0}}}, 'IsAlias': False, 'SupplementalAdminAreas': [{'Level': 2, 'LocalizedName': 'Allegheny', 'EnglishName': 'Allegheny'}], 'DataSets': ['AirQualityCurrentConditions', 'AirQualityForecasts', 'Alerts', 'DailyAirQualityForecast', 'DailyPollenForecast', 'ForecastConfidence', 'FutureRadar', 'MinuteCast', 'ProximityNotification-Lightning', 'Radar']}]\n",
    "print(weather)"
   ]
  },
  {
   "attachments": {},
   "cell_type": "markdown",
   "id": "09d18d58-c40e-4997-a8e1-0bcdd2c7e0ba",
   "metadata": {},
   "source": [
    "Q1. Write Python code to extract the elevation (value and unit) from this weather information returned in JSON format by the AccuWeather API\n",
    "Display the elevation value and unit"
   ]
  },
  {
   "cell_type": "code",
   "execution_count": null,
   "id": "c763a2d0-8ea0-420c-a374-da8fc54264ae",
   "metadata": {},
   "outputs": [],
   "source": []
  },
  {
   "cell_type": "markdown",
   "id": "32bf2a22-0556-4d7f-b209-a82b1e79b1ff",
   "metadata": {},
   "source": [
    "Q2. Working with DataFrames. Load the dataset happiness2023.csv into a dataframe named happiness.\n",
    "More information about this dataframe is available in \n",
    "[World Happiness Report 2023](https://worldhappiness.report/ed/2023/)"
   ]
  },
  {
   "cell_type": "code",
   "execution_count": null,
   "id": "80970cf2-c118-4f96-af9f-0eda86a9affe",
   "metadata": {},
   "outputs": [],
   "source": [
    "import pandas as pd\n",
    "import re"
   ]
  },
  {
   "cell_type": "code",
   "execution_count": null,
   "id": "3974d9bc-f2d1-47d1-98a0-3b0bb5f493a9",
   "metadata": {},
   "outputs": [],
   "source": [
    "happiness = pd.read_csv('happiness2023.csv') #reads first row as header by default\n",
    "happiness  "
   ]
  },
  {
   "cell_type": "markdown",
   "id": "e550afac-01c5-4bad-a582-20fba3a6bbb6",
   "metadata": {},
   "source": [
    "Q2.1. Write Python code to retrieve and save to a dataframe called sub_happiness the following columns.\n",
    "Country name, Ladder score, GDP, Life Expectancy, and Perception of Corruption."
   ]
  },
  {
   "cell_type": "code",
   "execution_count": null,
   "id": "32be84f8-e409-4c3e-950b-c52b94b5341a",
   "metadata": {},
   "outputs": [],
   "source": []
  },
  {
   "cell_type": "markdown",
   "id": "59068caf-effe-436c-b8e4-706c19125f1e",
   "metadata": {},
   "source": [
    "Q2.2. Rename the column names in sub_happiness to country, happiness score, gdp, life expectancy, corruption. Display the new dataframe."
   ]
  },
  {
   "cell_type": "code",
   "execution_count": null,
   "id": "4babcc46-45d4-4339-aac9-491d9d07ce28",
   "metadata": {},
   "outputs": [],
   "source": []
  },
  {
   "cell_type": "markdown",
   "id": "925ea309-1df6-4029-91bb-d9ccaa8959a5",
   "metadata": {},
   "source": [
    "Q2.3. Run the following code to retrieve basic information about the dataset\n",
    "What do you observe about the dataset from the last line happiness.info()?\n",
    "Answer: "
   ]
  },
  {
   "cell_type": "code",
   "execution_count": null,
   "id": "263f4a55-8ab1-4073-b7b8-a20ce391a1ce",
   "metadata": {},
   "outputs": [],
   "source": [
    "#Find basic information about this dataframe\n",
    "happiness.columns\n",
    "#Get number of countries in the dataset\n",
    "no_of_countries=len(happiness.axes[0])\n",
    "no_of_countries\n",
    "#Get number of columns in the dataset\n",
    "columns=len(happiness.axes[1])\n",
    "columns\n",
    "happiness.info() # Get a snapshot view of the above information\n"
   ]
  },
  {
   "cell_type": "markdown",
   "id": "237532ea-fde2-4fe9-8c2f-1dd63bd26fd6",
   "metadata": {},
   "source": [
    "Q2.3. Run the following code and describe the result briefly. \n",
    "Answer: "
   ]
  },
  {
   "cell_type": "code",
   "execution_count": null,
   "id": "24005763-8c89-491a-9b54-ae8caee7d28a",
   "metadata": {},
   "outputs": [],
   "source": [
    "#Ladder score is the happiness index for a country \n",
    "#Find the top five happy countries in the dataset\n",
    "sorted_happiness=happiness.sort_values(by=\"Ladder score\", ascending = False)\n",
    "sorted_happiness.head(5)\n",
    "\n",
    "#Create a new dataset with countries sorted by name\n",
    "sorted_by_country=happiness.sort_values(by=\"Country name\", ascending = True)\n",
    "print(sorted_by_country)\n",
    "sorted_by_country.to_csv(\"sortedhappinessdata.csv\", index=False)\n",
    "\n",
    "#Find all countries with Ladder score between 1 and 5\n",
    "filtered_countries = happiness[(happiness['Ladder score'] > 1.0) & (happiness['Ladder score'] < 5.0)]\n",
    "filtered_countries['Country name']\n"
   ]
  },
  {
   "cell_type": "markdown",
   "id": "4ed0bf99-be0a-41a0-907e-2caaf22c2d5f",
   "metadata": {},
   "source": [
    "Q2.4. Run the following code and describe what the apply() function does. \n",
    "Answer:  "
   ]
  },
  {
   "cell_type": "code",
   "execution_count": null,
   "id": "ba2333a8-ad68-4a8c-a758-e39a6c85ef8d",
   "metadata": {},
   "outputs": [],
   "source": [
    "def extract_first_three(country):\n",
    "    # Using regex to find the first three letters\n",
    "    match = re.search(r'^\\w{3}', country) # the r indicates a raw string  \n",
    "    if match:\n",
    "        return match.group(0)\n",
    "    return None  # In case no match is found\n",
    "# Apply the function to create a new column\n",
    "happiness['Name'] = happiness['Country name'].apply(extract_first_three)\n",
    "happiness['Name']\n",
    "\n",
    "#Find all countries whose name starts with P\n",
    "def starts_with_p(country):\n",
    "     return re.match(r'^P', country) is not None # the r indicates a raw string\n",
    "happiness[happiness['Country name'].apply(starts_with_p)]\n"
   ]
  },
  {
   "cell_type": "markdown",
   "id": "bbd94abb-ddd9-4fe9-b4b2-01000ca7f2fc",
   "metadata": {},
   "source": [
    "Q2.5. Check for missing values in the happiness dataset using the following code. \n",
    "a. Do you find any difference between isna() and isnull()?\n",
    "Answer:  \n",
    "b. Examine the csv file and report all the different types of missing values that are in the dataset.\n",
    "Answer: "
   ]
  },
  {
   "cell_type": "code",
   "execution_count": null,
   "id": "9ee4dce4-266f-4c74-9f16-4ddfea3ed459",
   "metadata": {},
   "outputs": [],
   "source": [
    "#Detecting missing values\n",
    "happiness.isna().sum() #Reports sum of missing values in each column\n",
    "happiness.isna().sum().sum() #Reports sum of missing values overall\n",
    "happiness.isnull().sum().sum() #Also reports sum of missing values overall\n"
   ]
  },
  {
   "attachments": {},
   "cell_type": "markdown",
   "id": "46869960-7e90-4f94-af61-195f0dd325f0",
   "metadata": {},
   "source": [
    "Q2.6. Inspect the csv file closely.    \n",
    "a. Are there any missing values in the dataset? How will this influence the summary statistics?\n",
    "Answer: \n",
    "b. Check for 0 values in some cells influence your summary statistics? \n",
    "Answer: \n",
    "c. Run the following code. Comment on the output. "
   ]
  },
  {
   "cell_type": "code",
   "execution_count": null,
   "id": "9c1a5ff8-1e21-46ce-9fc1-017d924a2ba3",
   "metadata": {},
   "outputs": [],
   "source": [
    "happiness.describe()"
   ]
  },
  {
   "cell_type": "markdown",
   "id": "e277a458-3e6f-4f42-b2cb-32bb465af494",
   "metadata": {},
   "source": [
    "#Submission: \n",
    "Please run all code cells.\n",
    "Please answer all questions \n",
    "Submit both the .ipynb and .html file showing the code output and the answers. "
   ]
  }
 ],
 "metadata": {
  "kernelspec": {
   "display_name": "FOR_AI",
   "language": "python",
   "name": "python3"
  },
  "language_info": {
   "codemirror_mode": {
    "name": "ipython",
    "version": 3
   },
   "file_extension": ".py",
   "mimetype": "text/x-python",
   "name": "python",
   "nbconvert_exporter": "python",
   "pygments_lexer": "ipython3",
   "version": "3.11.11"
  },
  "widgets": {
   "application/vnd.jupyter.widget-state+json": {
    "state": {},
    "version_major": 2,
    "version_minor": 0
   }
  }
 },
 "nbformat": 4,
 "nbformat_minor": 5
}
