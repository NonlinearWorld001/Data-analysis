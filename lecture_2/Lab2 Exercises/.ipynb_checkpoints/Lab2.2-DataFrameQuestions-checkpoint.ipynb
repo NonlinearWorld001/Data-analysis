{
 "cells": [
  {
   "cell_type": "markdown",
   "id": "45296cc6-a6ab-4cd7-b3fd-5f41f9ca0433",
   "metadata": {},
   "source": [
    "#Lab 2.2: Understand DataFrames\n",
    "The objective of this lab is to understand how to create dataframes and work with the data in the dataframe"
   ]
  },
  {
   "cell_type": "code",
   "execution_count": null,
   "id": "0f2fb304-d74b-4252-b6c0-ce03af8acb0b",
   "metadata": {},
   "outputs": [],
   "source": [
    "import numpy as np\n",
    "import pandas as pd"
   ]
  },
  {
   "cell_type": "markdown",
   "id": "b1e3e7a6-c5aa-4c07-9dfe-849b01d85557",
   "metadata": {},
   "source": [
    "Q1. Describe what the code cell below does:\n",
    "\n",
    "\n",
    "\n"
   ]
  },
  {
   "cell_type": "code",
   "execution_count": null,
   "id": "1da964e1-12b9-4820-a664-28bc0942b15e",
   "metadata": {},
   "outputs": [],
   "source": [
    "models = np.array([\"Honda Civic\", \"Toyota Corolla\", \"Ford Focus\", \"Audi A4\",\"Mercedes Benz\",\"BMW\"])\n",
    "colors = np.array([\"blue\", \"white\", \"blue\", \"black\", \"metallic\", \"metallic\"]) \n",
    "prices = np.random.randint(10000, 30000, size=len(models))\n",
    "\n",
    "\n",
    "cars_new=pd.DataFrame({'Model':models, 'Color': colors,'Price': prices} )\n",
    "cars_new\n"
   ]
  },
  {
   "cell_type": "markdown",
   "id": "6bff7e3f-812b-452e-9013-13f823db338e",
   "metadata": {},
   "source": [
    "Q2. Describe what the code cell below does:\n",
    "\n",
    "\n"
   ]
  },
  {
   "cell_type": "code",
   "execution_count": null,
   "id": "94de5f79-40f6-41df-95f5-d000c114dcc5",
   "metadata": {},
   "outputs": [],
   "source": [
    "cars = cars_new.copy()\n"
   ]
  },
  {
   "cell_type": "markdown",
   "id": "ab93b84e-a310-4af2-ab99-2d5f61e67cca",
   "metadata": {},
   "source": [
    "Q3. Describe what the code cell below does: \n",
    "\n",
    "\n"
   ]
  },
  {
   "cell_type": "code",
   "execution_count": null,
   "id": "f9f5a366-492f-4e5e-bc19-7404bf23ced5",
   "metadata": {},
   "outputs": [],
   "source": [
    "\n",
    "cars.rename(index={0:'Car1', 1:'Car2', 2:'Car3', 3:'Car4', 4:'Car5', 5:'Car6'}, inplace = True)\n"
   ]
  },
  {
   "cell_type": "markdown",
   "id": "50d7a3b8-a677-408a-93dc-60ae5c36154a",
   "metadata": {},
   "source": [
    "Q4. Describe what the code cell below does: \n",
    "\n",
    "\n"
   ]
  },
  {
   "cell_type": "code",
   "execution_count": null,
   "id": "7b54e826-f9e1-4fd1-9fcd-3cec39ab00e1",
   "metadata": {},
   "outputs": [],
   "source": [
    "\n",
    "cars.columns.values.tolist()\n",
    "carview = cars[['Model','Color']]\n",
    "carview\n",
    "\n",
    "\n",
    "cars.head(6)\n",
    "cars.tail() #defaul 5 last rows are displayed\n"
   ]
  },
  {
   "cell_type": "markdown",
   "id": "871263ac-bc44-40f9-a51d-a41b10fd26d3",
   "metadata": {},
   "source": [
    "Q5. Describe what the code cell below does: \n",
    "\n",
    "\n"
   ]
  },
  {
   "cell_type": "code",
   "execution_count": null,
   "id": "d7ce9007-fe21-4f48-bb42-b1b31c5a5203",
   "metadata": {},
   "outputs": [],
   "source": [
    "\n",
    "cars.iloc[1] #will print the second car in the dataframe\n",
    "\n",
    "\n",
    "cars[cars['Color']=='metallic']\n"
   ]
  },
  {
   "cell_type": "markdown",
   "id": "34e3f79d-4417-447d-8db4-09b2feb67b2a",
   "metadata": {},
   "source": [
    "Q6. Describe what the code cell below does: \n",
    "\n",
    "\n"
   ]
  },
  {
   "cell_type": "code",
   "execution_count": null,
   "id": "f71c68cc-4f74-473d-9e0f-5dc909a43189",
   "metadata": {},
   "outputs": [],
   "source": [
    "\n",
    "def find_cars_by_price_range(df, min_price, max_price):\n",
    "    return df[(df['Price'] >= min_price) & (df['Price'] <= max_price)]\n",
    "\n",
    "\n",
    "price_range_cars = find_cars_by_price_range(cars, 20000, 30000)\n",
    "price_range_cars\n",
    "\n"
   ]
  },
  {
   "cell_type": "markdown",
   "id": "a5da3f95-b2d9-4fa1-9b65-5f3cb8715e91",
   "metadata": {},
   "source": [
    "Q7. Describe what the code cell below does\n",
    "\n"
   ]
  },
  {
   "cell_type": "code",
   "execution_count": null,
   "id": "c0193412-ac3f-4964-9681-3ac8202e0df2",
   "metadata": {},
   "outputs": [],
   "source": [
    "\n",
    "cars.to_csv(\"CarsDatabase.csv\") # to save without the index column set index=False\n",
    "new_cars=pd.read_csv(\"CarsDatabase.csv\",index_col=0)\n",
    "new_cars"
   ]
  },
  {
   "cell_type": "markdown",
   "id": "ffa21146-70d4-4eae-ace7-cdbac3bf77ea",
   "metadata": {},
   "source": [
    "Q8. Describe what the code cell below does: \n",
    "\n",
    "\n"
   ]
  },
  {
   "cell_type": "code",
   "execution_count": null,
   "id": "3a9b8d70-692b-4583-a9ee-2519e0669db2",
   "metadata": {},
   "outputs": [],
   "source": [
    "\n",
    "def findAveragePrice(color):\n",
    "    return cars[cars['Color'].str.lower() == color]['Price'].mean()\n",
    "findAveragePrice('blue')"
   ]
  },
  {
   "cell_type": "markdown",
   "id": "8cd57626-72ae-4716-ae87-df0c7b31edbe",
   "metadata": {},
   "source": [
    "Q9. Describe what the code cell below does: \n",
    "\n",
    "\n"
   ]
  },
  {
   "cell_type": "code",
   "execution_count": null,
   "id": "57b5d62c-668b-4026-88c8-70d81dfe02a5",
   "metadata": {},
   "outputs": [],
   "source": [
    "\n",
    "new_row = {'Model':'Ford Focus', 'Color':'blue', 'Price':23890}\n",
    "\n",
    "new_car = pd.DataFrame({'Model':'Ford Focus','Color': 'blue','Price': 23890}, \n",
    "                       index=[\"Car7\"])  # Specify the correct index value here\n",
    "\n",
    "cars = pd.concat([cars, new_car])\n",
    "cars\n",
    "\n",
    "findAveragePrice('blue')"
   ]
  },
  {
   "cell_type": "markdown",
   "id": "b3b1d37f-aa25-484a-b9e4-fd279e0b6e6d",
   "metadata": {},
   "source": [
    "Q10. Describe what the code cell below does: \n",
    "\n",
    "\n"
   ]
  },
  {
   "cell_type": "code",
   "execution_count": null,
   "id": "fd87a5d0-56fa-4e97-a9b8-875c4e73dc23",
   "metadata": {},
   "outputs": [],
   "source": [
    "sorted_cars = cars.sort_values(by='Price')\n",
    "sorted_cars"
   ]
  }
 ],
 "metadata": {
  "kernelspec": {
   "display_name": "Python 3 (ipykernel)",
   "language": "python",
   "name": "python3"
  },
  "language_info": {
   "codemirror_mode": {
    "name": "ipython",
    "version": 3
   },
   "file_extension": ".py",
   "mimetype": "text/x-python",
   "name": "python",
   "nbconvert_exporter": "python",
   "pygments_lexer": "ipython3",
   "version": "3.10.15"
  },
  "widgets": {
   "application/vnd.jupyter.widget-state+json": {
    "state": {},
    "version_major": 2,
    "version_minor": 0
   }
  }
 },
 "nbformat": 4,
 "nbformat_minor": 5
}
