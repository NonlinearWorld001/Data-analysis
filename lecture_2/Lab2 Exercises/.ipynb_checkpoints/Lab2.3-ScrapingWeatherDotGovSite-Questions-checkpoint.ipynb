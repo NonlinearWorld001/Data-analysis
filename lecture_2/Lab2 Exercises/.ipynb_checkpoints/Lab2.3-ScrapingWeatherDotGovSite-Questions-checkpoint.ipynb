{
 "cells": [
  {
   "cell_type": "markdown",
   "id": "765d0fc6-f981-40e8-b40f-a06e4b52c899",
   "metadata": {},
   "source": [
    "### Lab 2.3 Demo of webscraping with Beautiful Soup\n",
    "We'll use the page https://forecast.weather.gov and click on a map and copy a url\n",
    "Also use DevTools to understand the structure of the resulting page for drilling down\n",
    "Use print to also view the structure before accessing"
   ]
  },
  {
   "cell_type": "code",
   "execution_count": 4,
   "id": "592deff3-cf2e-4f60-b9b0-ff29e9d0d5e2",
   "metadata": {},
   "outputs": [],
   "source": [
    "import requests\n",
    "from bs4 import BeautifulSoup"
   ]
  },
  {
   "cell_type": "markdown",
   "id": "709deff9-dbe5-4977-8a89-d867f215d665",
   "metadata": {},
   "source": [
    "The code cell below retrieves the contents of a dynamically generated page by passing a url and a header\n",
    "\n",
    "# Q1: Modify the code below to retrieve weather for Tucson, Arizona"
   ]
  },
  {
   "cell_type": "code",
   "execution_count": 7,
   "id": "5dad3f38-c6b7-4008-8ff3-e679646578cc",
   "metadata": {},
   "outputs": [],
   "source": [
    "url=\"https://forecast.weather.gov/MapClick.php?lat=43.0739&lon=-89.3852\"\n",
    "request_headers = {\n",
    "    'user-agent': 'Mozilla/5.0 (Windows NT 10.0; Win64; x64) AppleWebKit/537.36 (KHTML, like Gecko) Chrome/91.0.4472.124 Safari/537.36'\n",
    "}\n",
    "page = requests.get(url, headers=request_headers)"
   ]
  },
  {
   "cell_type": "markdown",
   "id": "03175d2e-6037-4471-b746-1dee0c51ce1b",
   "metadata": {},
   "source": [
    "Q2: Explain the code cell below\n",
    "\n"
   ]
  },
  {
   "cell_type": "code",
   "execution_count": 10,
   "id": "c4fb0823-a0b2-414d-8068-5b75d7634484",
   "metadata": {},
   "outputs": [
    {
     "name": "stdout",
     "output_type": "stream",
     "text": [
      "<div class=\"tombstone-container\">\n",
      " <p class=\"period-name\">\n",
      "  This Afternoon\n",
      " </p>\n",
      " <p>\n",
      "  <img alt=\"This Afternoon: Mostly sunny, with a high near 63. Southeast wind 5 to 10 mph. \" class=\"forecast-icon\" src=\"newimages/medium/sct.png\" title=\"This Afternoon: Mostly sunny, with a high near 63. Southeast wind 5 to 10 mph. \"/>\n",
      " </p>\n",
      " <p class=\"temp temp-high\">\n",
      "  High: 63 °F\n",
      " </p>\n",
      " <p class=\"short-desc\">\n",
      "  Mostly Sunny\n",
      " </p>\n",
      "</div>\n",
      "\n"
     ]
    }
   ],
   "source": [
    "soup = BeautifulSoup(page.content, 'html.parser')\n",
    "seven_day = soup.find(id=\"seven-day-forecast\")\n",
    "forecast_items = seven_day.find_all(class_=\"tombstone-container\")\n",
    "tonight = forecast_items[0]\n",
    "print(tonight.prettify())"
   ]
  },
  {
   "cell_type": "markdown",
   "id": "1e100368-6752-4ed7-be2f-e0c6aeb8d551",
   "metadata": {},
   "source": [
    "Q3: Explain the code cell below\n",
    "\n",
    "\n"
   ]
  },
  {
   "cell_type": "code",
   "execution_count": 13,
   "id": "f2793576-8a52-4d89-b2d4-5133f4fd5e88",
   "metadata": {},
   "outputs": [
    {
     "name": "stdout",
     "output_type": "stream",
     "text": [
      "This Afternoon\n",
      "Mostly Sunny\n",
      "High: 63 °F\n"
     ]
    }
   ],
   "source": [
    "# Now drill down into 'tonight'\n",
    "period = tonight.find(class_=\"period-name\").get_text()\n",
    "short_desc = tonight.find(class_=\"short-desc\").get_text()\n",
    "temp = tonight.find(class_=\"temp\").get_text()\n",
    "print(period)\n",
    "print(short_desc)\n",
    "print(temp)"
   ]
  },
  {
   "cell_type": "markdown",
   "id": "c7ed41f6-1a3b-47b9-a047-176ea0d6711a",
   "metadata": {},
   "source": [
    "Q4: Explain the code cell below\n",
    "\n",
    "\n"
   ]
  },
  {
   "cell_type": "code",
   "execution_count": 16,
   "id": "0db215fa-9803-44be-8d4d-85483ee58cd6",
   "metadata": {},
   "outputs": [
    {
     "name": "stdout",
     "output_type": "stream",
     "text": [
      "[<p class=\"period-name\">This Afternoon</p>, <p class=\"period-name\">Tonight</p>, <p class=\"period-name\">Friday</p>, <p class=\"period-name\">Friday Night</p>, <p class=\"period-name\">Saturday</p>, <p class=\"period-name\">Saturday Night</p>, <p class=\"period-name\">Sunday</p>, <p class=\"period-name\">Sunday Night</p>, <p class=\"period-name\">Monday</p>]\n",
      "['This Afternoon', 'Tonight', 'Friday', 'Friday Night', 'Saturday', 'Saturday Night', 'Sunday', 'Sunday Night', 'Monday']\n",
      "['High: 63 °F', 'Low: 43 °F', 'High: 73 °F', 'Low: 51 °F', 'High: 56 °F', 'Low: 27 °F', 'High: 42 °F', 'Low: 26 °F', 'High: 58 °F']\n"
     ]
    }
   ],
   "source": [
    "# Example of select( )﻿\n",
    "period_tags = seven_day.select(\".tombstone-container .period-name\")\n",
    "print(period_tags)\n",
    "periods = [pt.get_text() for pt in period_tags]\n",
    "print(periods)\n",
    "temps = [t.get_text() for t in seven_day.select(\".tombstone-container .temp\")]\n",
    "print(temps)"
   ]
  },
  {
   "cell_type": "markdown",
   "id": "8d100e7f-e191-4082-9097-a8c5fd75024e",
   "metadata": {},
   "source": [
    "# Make sure you run all of the cells and display the results\n",
    "# Submit both a .ipynb file and a .html file"
   ]
  }
 ],
 "metadata": {
  "kernelspec": {
   "display_name": "Python 3 (ipykernel)",
   "language": "python",
   "name": "python3"
  },
  "language_info": {
   "codemirror_mode": {
    "name": "ipython",
    "version": 3
   },
   "file_extension": ".py",
   "mimetype": "text/x-python",
   "name": "python",
   "nbconvert_exporter": "python",
   "pygments_lexer": "ipython3",
   "version": "3.10.15"
  },
  "widgets": {
   "application/vnd.jupyter.widget-state+json": {
    "state": {},
    "version_major": 2,
    "version_minor": 0
   }
  }
 },
 "nbformat": 4,
 "nbformat_minor": 5
}
