{
 "cells": [
  {
   "cell_type": "code",
   "execution_count": 8,
   "id": "e2729596-1f5c-45ec-a684-11e9a8837b61",
   "metadata": {},
   "outputs": [],
   "source": [
    "import requests"
   ]
  },
  {
   "cell_type": "code",
   "execution_count": null,
   "id": "52c1bc31-de77-453b-90f4-c098c3428faf",
   "metadata": {},
   "outputs": [],
   "source": [
    "params ={\"query\":\"python download url content\",\"source\":\"chrome\"}\n",
    "response = requests.get(\"http://www.google.com/search\",params=params)"
   ]
  },
  {
   "cell_type": "code",
   "execution_count": null,
   "id": "cf75ee63-e90e-457b-9cc1-c9dd76190695",
   "metadata": {},
   "outputs": [],
   "source": []
  }
 ],
 "metadata": {
  "kernelspec": {
   "display_name": "Python [conda env:FOR_AI]",
   "language": "python",
   "name": "conda-env-FOR_AI-py"
  },
  "language_info": {
   "codemirror_mode": {
    "name": "ipython",
    "version": 3
   },
   "file_extension": ".py",
   "mimetype": "text/x-python",
   "name": "python",
   "nbconvert_exporter": "python",
   "pygments_lexer": "ipython3",
   "version": "3.11.11"
  }
 },
 "nbformat": 4,
 "nbformat_minor": 5
}
